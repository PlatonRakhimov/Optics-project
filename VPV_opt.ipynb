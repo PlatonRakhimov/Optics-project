{
  "nbformat": 4,
  "nbformat_minor": 0,
  "metadata": {
    "colab": {
      "provenance": []
    },
    "kernelspec": {
      "name": "python3",
      "display_name": "Python 3"
    },
    "language_info": {
      "name": "python"
    }
  },
  "cells": [
    {
      "cell_type": "code",
      "execution_count": 1,
      "metadata": {
        "id": "pdeBbmQ6dKQd"
      },
      "outputs": [],
      "source": [
        "import numpy as np\n",
        "import scipy.stats as sps\n",
        "import matplotlib.pyplot as plt\n",
        "import pandas as pd\n",
        "import seaborn as sns\n",
        "from numba import njit, int32, float32"
      ]
    },
    {
      "cell_type": "code",
      "source": [
        "def normalize(array):\n",
        "    max = np.max(array)\n",
        "    return array/max\n",
        "\n",
        "def draw(field, name = '', xlabel = 'x', ylabel = 'y'): # функция для отрисовки экрана, даем на вход массив яркостей(Е^2)\n",
        "    field = normalize(field)\n",
        "    new_field = (np.dstack((field, field, field))*255).astype(int)\n",
        "    plt.imshow(new_field)\n",
        "    plt.title(name)\n",
        "    plt.xlabel(xlabel)\n",
        "    plt.ylabel(ylabel)\n",
        "    plt.show()\n",
        "\n",
        "def delta(x):\n",
        "    return np.max(x)-np.min(x)"
      ],
      "metadata": {
        "id": "KaScbxakdQWv"
      },
      "execution_count": 2,
      "outputs": []
    },
    {
      "cell_type": "markdown",
      "source": [
        "## 1)Транспорант\n",
        "задаем форму и размеры обьекта, на котором мы хотим получить дифракцию"
      ],
      "metadata": {
        "id": "PmOnbETiw6ai"
      }
    },
    {
      "cell_type": "code",
      "source": [
        "width = 500\n",
        "tramsporant = np.zeros((width, width)) # наш обьект, от которого мы смотрим дифракцию\n",
        "cntr = width//2\n",
        "delt = width//20\n",
        "start_index = cntr-delt\n",
        "end_index = cntr+delt\n",
        "\n",
        "tramsporant[:, start_index:end_index] = 1\n",
        "\n",
        "draw(tramsporant, \"tramsporant\") # берем и рисуем для примера щель"
      ],
      "metadata": {
        "colab": {
          "base_uri": "https://localhost:8080/",
          "height": 472
        },
        "id": "jHpj53Ided-5",
        "outputId": "b8e2104e-8835-4985-e900-4b757f8448ee"
      },
      "execution_count": 15,
      "outputs": [
        {
          "output_type": "display_data",
          "data": {
            "text/plain": [
              "<Figure size 640x480 with 1 Axes>"
            ],
            "image/png": "[encoded data removed]"
          },
          "metadata": {}
        }
      ]
    },
    {
      "cell_type": "code",
      "source": [
        "tramsporant = np.zeros((width, width))\n",
        "center_x, center_y = cntr, cntr\n",
        "\n",
        "radius = width//5\n",
        "\n",
        "x, y = np.meshgrid(np.arange(width), np.arange(width))\n",
        "\n",
        "distance = np.sqrt((x - center_x)**2 + (y - center_y)**2)\n",
        "\n",
        "tramsporant[distance <= radius] = 1\n",
        "draw(tramsporant, \"tramsporant\")"
      ],
      "metadata": {
        "colab": {
          "base_uri": "https://localhost:8080/",
          "height": 472
        },
        "id": "PeR5K1GCz3U3",
        "outputId": "0d46a0c7-b112-4522-c16b-323ed4114417"
      },
      "execution_count": 16,
      "outputs": [
        {
          "output_type": "display_data",
          "data": {
            "text/plain": [
              "<Figure size 640x480 with 1 Axes>"
            ],
            "image/png": "[encoded data removed]"
          },
          "metadata": {}
        }
      ]
    },
    {
      "cell_type": "markdown",
      "source": [
        "задаем начальные условия, для которых мы изучаем дифракцию"
      ],
      "metadata": {
        "id": "zxGnCrMhwrFN"
      }
    },
    {
      "cell_type": "code",
      "source": [
        "z = 0.7\n",
        "screen = np.zeros(tramsporant.shape)\n",
        "lambd = 500*10**(-9)\n",
        "k = 2*np.pi/lambd\n",
        "scale = 20000"
      ],
      "metadata": {
        "id": "aPUapLWEtTgz"
      },
      "execution_count": 17,
      "outputs": []
    },
    {
      "cell_type": "markdown",
      "source": [
        "## 2)Получение изображения\n",
        "Далее мы создаем цикл, сложности $n^4$ в котором для каждой точки экрана, на котором мы ходим увидеть дифракцию, берем дискретно интеграл френеля, и записываем в соответствующую точку квадрат модуля комплексной напряженности\n",
        "\n",
        "$Screen_i = Re(E)^2+ Im(E)^2$"
      ],
      "metadata": {
        "id": "Susk6_sWwEYu"
      }
    },
    {
      "cell_type": "code",
      "source": [
        "@njit(fastmath = True)\n",
        "def calculus_1(tramsporant, screen): # функция, котора как раз прогоняет каждую точку экрана, а для нее прогоняет каждую точку транспоранта\n",
        "    for screen_x in range(screen.shape[0]):\n",
        "        print(\"screen_x = \", screen_x)\n",
        "        for screen_y in range(screen.shape[1]):\n",
        "            Re = 0\n",
        "            Im = 0\n",
        "            for tr_x in range(tramsporant.shape[0]):\n",
        "                for tr_y in range(tramsporant.shape[1]):\n",
        "                    dx = (screen_x - tr_x)/scale\n",
        "                    dy = (screen_y - tr_y)/scale\n",
        "\n",
        "                    ro = np.sqrt(dx**2 + dy**2)\n",
        "                    R = np.sqrt(ro**2 + z**2)\n",
        "                    alpha = np.arctan(ro/z)\n",
        "\n",
        "                    koef = tramsporant[tr_x][tr_y]*np.cos(alpha)/(lambd*R)\n",
        "\n",
        "                    Im += (-1)*koef*np.cos(k*R)\n",
        "                    Re += koef*np.sin(k*R)\n",
        "\n",
        "            screen[screen_x][screen_y] = Im**2 + Re**2\n",
        "    return screen"
      ],
      "metadata": {
        "id": "x-K1KQmQo94s"
      },
      "execution_count": 18,
      "outputs": []
    },
    {
      "cell_type": "code",
      "source": [
        "screen = calculus_1(tramsporant, screen)\n",
        "draw(screen)"
      ],
      "metadata": {
        "colab": {
          "base_uri": "https://localhost:8080/"
        },
        "id": "6HJIkKWeIq91",
        "outputId": "f4fb22c4-d4c8-416f-d6e1-fea15134acda"
      },
      "execution_count": null,
      "outputs": [
        {
          "output_type": "stream",
          "name": "stdout",
          "text": [
            "screen_x =  0\n",
            "screen_x =  1\n",
            "screen_x =  2\n",
            "screen_x =  3\n",
            "screen_x =  4\n",
            "screen_x =  5\n",
            "screen_x =  6\n",
            "screen_x =  7\n",
            "screen_x =  8\n",
            "screen_x =  9\n",
            "screen_x =  10\n",
            "screen_x =  11\n",
            "screen_x =  12\n",
            "screen_x =  13\n",
            "screen_x =  14\n",
            "screen_x =  15\n",
            "screen_x =  16\n",
            "screen_x =  17\n",
            "screen_x =  18\n",
            "screen_x =  19\n",
            "screen_x =  20\n",
            "screen_x =  21\n",
            "screen_x =  22\n",
            "screen_x =  23\n",
            "screen_x =  24\n",
            "screen_x =  25\n",
            "screen_x =  26\n",
            "screen_x =  27\n",
            "screen_x =  28\n",
            "screen_x =  29\n",
            "screen_x =  30\n",
            "screen_x =  31\n",
            "screen_x =  32\n",
            "screen_x =  33\n",
            "screen_x =  34\n",
            "screen_x =  35\n",
            "screen_x =  36\n",
            "screen_x =  37\n",
            "screen_x =  38\n",
            "screen_x =  39\n",
            "screen_x =  40\n",
            "screen_x =  41\n",
            "screen_x =  42\n",
            "screen_x =  43\n",
            "screen_x =  44\n",
            "screen_x =  45\n",
            "screen_x =  46\n",
            "screen_x =  47\n",
            "screen_x =  48\n",
            "screen_x =  49\n",
            "screen_x =  50\n",
            "screen_x =  51\n",
            "screen_x =  52\n",
            "screen_x =  53\n",
            "screen_x =  54\n",
            "screen_x =  55\n",
            "screen_x =  56\n",
            "screen_x =  57\n",
            "screen_x =  58\n",
            "screen_x =  59\n",
            "screen_x =  60\n",
            "screen_x =  61\n",
            "screen_x =  62\n",
            "screen_x =  63\n",
            "screen_x =  64\n",
            "screen_x =  65\n",
            "screen_x =  66\n",
            "screen_x =  67\n",
            "screen_x =  68\n",
            "screen_x =  69\n",
            "screen_x =  70\n",
            "screen_x =  71\n",
            "screen_x =  72\n",
            "screen_x =  73\n",
            "screen_x =  74\n",
            "screen_x =  75\n",
            "screen_x =  76\n",
            "screen_x =  77\n",
            "screen_x =  78\n",
            "screen_x =  79\n",
            "screen_x =  80\n",
            "screen_x =  81\n",
            "screen_x =  82\n",
            "screen_x =  83\n",
            "screen_x =  84\n",
            "screen_x =  85\n",
            "screen_x =  86\n",
            "screen_x =  87\n",
            "screen_x =  88\n",
            "screen_x =  89\n",
            "screen_x =  90\n",
            "screen_x =  91\n",
            "screen_x =  92\n",
            "screen_x =  93\n",
            "screen_x =  94\n",
            "screen_x =  95\n",
            "screen_x =  96\n",
            "screen_x =  97\n",
            "screen_x =  98\n",
            "screen_x =  99\n",
            "screen_x =  100\n",
            "screen_x =  101\n",
            "screen_x =  102\n",
            "screen_x =  103\n",
            "screen_x =  104\n",
            "screen_x =  105\n",
            "screen_x =  106\n",
            "screen_x =  107\n",
            "screen_x =  108\n",
            "screen_x =  109\n",
            "screen_x =  110\n",
            "screen_x =  111\n",
            "screen_x =  112\n",
            "screen_x =  113\n",
            "screen_x =  114\n",
            "screen_x =  115\n",
            "screen_x =  116\n",
            "screen_x =  117\n",
            "screen_x =  118\n",
            "screen_x =  119\n",
            "screen_x =  120\n",
            "screen_x =  121\n",
            "screen_x =  122\n",
            "screen_x =  123\n",
            "screen_x =  124\n",
            "screen_x =  125\n",
            "screen_x =  126\n",
            "screen_x =  127\n",
            "screen_x =  128\n",
            "screen_x =  129\n",
            "screen_x =  130\n",
            "screen_x =  131\n",
            "screen_x =  132\n",
            "screen_x =  133\n",
            "screen_x =  134\n",
            "screen_x =  135\n",
            "screen_x =  136\n",
            "screen_x =  137\n",
            "screen_x =  138\n",
            "screen_x =  139\n",
            "screen_x =  140\n",
            "screen_x =  141\n",
            "screen_x =  142\n",
            "screen_x =  143\n",
            "screen_x =  144\n",
            "screen_x =  145\n",
            "screen_x =  146\n",
            "screen_x =  147\n",
            "screen_x =  148\n",
            "screen_x =  149\n",
            "screen_x =  150\n",
            "screen_x =  151\n",
            "screen_x =  152\n",
            "screen_x =  153\n",
            "screen_x =  154\n",
            "screen_x =  155\n",
            "screen_x =  156\n",
            "screen_x =  157\n",
            "screen_x =  158\n",
            "screen_x =  159\n",
            "screen_x =  160\n",
            "screen_x =  161\n",
            "screen_x =  162\n",
            "screen_x =  163\n",
            "screen_x =  164\n",
            "screen_x =  165\n",
            "screen_x =  166\n",
            "screen_x =  167\n",
            "screen_x =  168\n",
            "screen_x =  169\n",
            "screen_x =  170\n",
            "screen_x =  171\n",
            "screen_x =  172\n",
            "screen_x =  173\n",
            "screen_x =  174\n",
            "screen_x =  175\n",
            "screen_x =  176\n",
            "screen_x =  177\n",
            "screen_x =  178\n",
            "screen_x =  179\n",
            "screen_x =  180\n",
            "screen_x =  181\n",
            "screen_x =  182\n",
            "screen_x =  183\n",
            "screen_x =  184\n",
            "screen_x =  185\n",
            "screen_x =  186\n",
            "screen_x =  187\n",
            "screen_x =  188\n",
            "screen_x =  189\n",
            "screen_x =  190\n",
            "screen_x =  191\n",
            "screen_x =  192\n",
            "screen_x =  193\n"
          ]
        }
      ]
    }
  ]
}